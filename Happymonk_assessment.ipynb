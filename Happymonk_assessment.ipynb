{
  "nbformat": 4,
  "nbformat_minor": 0,
  "metadata": {
    "colab": {
      "provenance": []
    },
    "kernelspec": {
      "name": "python3",
      "display_name": "Python 3"
    },
    "language_info": {
      "name": "python"
    }
  },
  "cells": [
    {
      "cell_type": "code",
      "metadata": {
        "id": "9RXo8Mtc8rbu"
      },
      "source": [
        "import pandas as pd\n",
        "import numpy as np\n",
        "import seaborn as sns\n",
        "from pandas import read_csv"
      ],
      "execution_count": null,
      "outputs": []
    },
    {
      "cell_type": "code",
      "source": [
        "from sklearn.model_selection import train_test_split\n",
        "from sklearn.preprocessing import LabelEncoder\n",
        "from sklearn.metrics import accuracy_score\n",
        "from tensorflow.keras import Sequential\n",
        "from tensorflow.keras.layers import Dense\n",
        "from matplotlib import pyplot as plt\n",
        "from sklearn.metrics import classification_report\n",
        "from sklearn.metrics import accuracy_score\n",
        "from sklearn.metrics import precision_score\n",
        "from sklearn.metrics import recall_score\n",
        "from sklearn.metrics import f1_score\n",
        "from sklearn.metrics import roc_auc_score\n",
        "from sklearn.metrics import confusion_matrix\n",
        "from keras.models import Sequential\n",
        "from keras.layers import Dense"
      ],
      "metadata": {
        "id": "OEOKvjmYpUE0"
      },
      "execution_count": null,
      "outputs": []
    },
    {
      "cell_type": "code",
      "metadata": {
        "colab": {
          "base_uri": "https://localhost:8080/",
          "height": 215
        },
        "id": "rG7PLQXF_WBs",
        "outputId": "6d4b4bdb-b1a7-4e9c-fa66-494f3db83976"
      },
      "source": [
        "#dataset\n",
        "url = 'https://raw.githubusercontent.com/jbrownlee/Datasets/master/banknote_authentication.csv'\n",
        "df = read_csv(url, header=None)\n",
        "df.head()"
      ],
      "execution_count": null,
      "outputs": [
        {
          "output_type": "execute_result",
          "data": {
            "text/plain": [
              "         0       1       2        3  4\n",
              "0  3.62160  8.6661 -2.8073 -0.44699  0\n",
              "1  4.54590  8.1674 -2.4586 -1.46210  0\n",
              "2  3.86600 -2.6383  1.9242  0.10645  0\n",
              "3  3.45660  9.5228 -4.0112 -3.59440  0\n",
              "4  0.32924 -4.4552  4.5718 -0.98880  0"
            ],
            "text/html": [
              "\n",
              "  <div id=\"df-46d6e92a-cd14-4974-9353-0a89af832c30\">\n",
              "    <div class=\"colab-df-container\">\n",
              "      <div>\n",
              "<style scoped>\n",
              "    .dataframe tbody tr th:only-of-type {\n",
              "        vertical-align: middle;\n",
              "    }\n",
              "\n",
              "    .dataframe tbody tr th {\n",
              "        vertical-align: top;\n",
              "    }\n",
              "\n",
              "    .dataframe thead th {\n",
              "        text-align: right;\n",
              "    }\n",
              "</style>\n",
              "<table border=\"1\" class=\"dataframe\">\n",
              "  <thead>\n",
              "    <tr style=\"text-align: right;\">\n",
              "      <th></th>\n",
              "      <th>0</th>\n",
              "      <th>1</th>\n",
              "      <th>2</th>\n",
              "      <th>3</th>\n",
              "      <th>4</th>\n",
              "    </tr>\n",
              "  </thead>\n",
              "  <tbody>\n",
              "    <tr>\n",
              "      <th>0</th>\n",
              "      <td>3.62160</td>\n",
              "      <td>8.6661</td>\n",
              "      <td>-2.8073</td>\n",
              "      <td>-0.44699</td>\n",
              "      <td>0</td>\n",
              "    </tr>\n",
              "    <tr>\n",
              "      <th>1</th>\n",
              "      <td>4.54590</td>\n",
              "      <td>8.1674</td>\n",
              "      <td>-2.4586</td>\n",
              "      <td>-1.46210</td>\n",
              "      <td>0</td>\n",
              "    </tr>\n",
              "    <tr>\n",
              "      <th>2</th>\n",
              "      <td>3.86600</td>\n",
              "      <td>-2.6383</td>\n",
              "      <td>1.9242</td>\n",
              "      <td>0.10645</td>\n",
              "      <td>0</td>\n",
              "    </tr>\n",
              "    <tr>\n",
              "      <th>3</th>\n",
              "      <td>3.45660</td>\n",
              "      <td>9.5228</td>\n",
              "      <td>-4.0112</td>\n",
              "      <td>-3.59440</td>\n",
              "      <td>0</td>\n",
              "    </tr>\n",
              "    <tr>\n",
              "      <th>4</th>\n",
              "      <td>0.32924</td>\n",
              "      <td>-4.4552</td>\n",
              "      <td>4.5718</td>\n",
              "      <td>-0.98880</td>\n",
              "      <td>0</td>\n",
              "    </tr>\n",
              "  </tbody>\n",
              "</table>\n",
              "</div>\n",
              "      <button class=\"colab-df-convert\" onclick=\"convertToInteractive('df-46d6e92a-cd14-4974-9353-0a89af832c30')\"\n",
              "              title=\"Convert this dataframe to an interactive table.\"\n",
              "              style=\"display:none;\">\n",
              "        \n",
              "  <svg xmlns=\"http://www.w3.org/2000/svg\" height=\"24px\"viewBox=\"0 0 24 24\"\n",
              "       width=\"24px\">\n",
              "    <path d=\"M0 0h24v24H0V0z\" fill=\"none\"/>\n",
              "    <path d=\"M18.56 5.44l.94 2.06.94-2.06 2.06-.94-2.06-.94-.94-2.06-.94 2.06-2.06.94zm-11 1L8.5 8.5l.94-2.06 2.06-.94-2.06-.94L8.5 2.5l-.94 2.06-2.06.94zm10 10l.94 2.06.94-2.06 2.06-.94-2.06-.94-.94-2.06-.94 2.06-2.06.94z\"/><path d=\"M17.41 7.96l-1.37-1.37c-.4-.4-.92-.59-1.43-.59-.52 0-1.04.2-1.43.59L10.3 9.45l-7.72 7.72c-.78.78-.78 2.05 0 2.83L4 21.41c.39.39.9.59 1.41.59.51 0 1.02-.2 1.41-.59l7.78-7.78 2.81-2.81c.8-.78.8-2.07 0-2.86zM5.41 20L4 18.59l7.72-7.72 1.47 1.35L5.41 20z\"/>\n",
              "  </svg>\n",
              "      </button>\n",
              "      \n",
              "  <style>\n",
              "    .colab-df-container {\n",
              "      display:flex;\n",
              "      flex-wrap:wrap;\n",
              "      gap: 12px;\n",
              "    }\n",
              "\n",
              "    .colab-df-convert {\n",
              "      background-color: #E8F0FE;\n",
              "      border: none;\n",
              "      border-radius: 50%;\n",
              "      cursor: pointer;\n",
              "      display: none;\n",
              "      fill: #1967D2;\n",
              "      height: 32px;\n",
              "      padding: 0 0 0 0;\n",
              "      width: 32px;\n",
              "    }\n",
              "\n",
              "    .colab-df-convert:hover {\n",
              "      background-color: #E2EBFA;\n",
              "      box-shadow: 0px 1px 2px rgba(60, 64, 67, 0.3), 0px 1px 3px 1px rgba(60, 64, 67, 0.15);\n",
              "      fill: #174EA6;\n",
              "    }\n",
              "\n",
              "    [theme=dark] .colab-df-convert {\n",
              "      background-color: #3B4455;\n",
              "      fill: #D2E3FC;\n",
              "    }\n",
              "\n",
              "    [theme=dark] .colab-df-convert:hover {\n",
              "      background-color: #434B5C;\n",
              "      box-shadow: 0px 1px 3px 1px rgba(0, 0, 0, 0.15);\n",
              "      filter: drop-shadow(0px 1px 2px rgba(0, 0, 0, 0.3));\n",
              "      fill: #FFFFFF;\n",
              "    }\n",
              "  </style>\n",
              "\n",
              "      <script>\n",
              "        const buttonEl =\n",
              "          document.querySelector('#df-46d6e92a-cd14-4974-9353-0a89af832c30 button.colab-df-convert');\n",
              "        buttonEl.style.display =\n",
              "          google.colab.kernel.accessAllowed ? 'block' : 'none';\n",
              "\n",
              "        async function convertToInteractive(key) {\n",
              "          const element = document.querySelector('#df-46d6e92a-cd14-4974-9353-0a89af832c30');\n",
              "          const dataTable =\n",
              "            await google.colab.kernel.invokeFunction('convertToInteractive',\n",
              "                                                     [key], {});\n",
              "          if (!dataTable) return;\n",
              "\n",
              "          const docLinkHtml = 'Like what you see? Visit the ' +\n",
              "            '<a target=\"_blank\" href=https://colab.research.google.com/notebooks/data_table.ipynb>data table notebook</a>'\n",
              "            + ' to learn more about interactive tables.';\n",
              "          element.innerHTML = '';\n",
              "          dataTable['output_type'] = 'display_data';\n",
              "          await google.colab.output.renderOutput(dataTable, element);\n",
              "          const docLink = document.createElement('div');\n",
              "          docLink.innerHTML = docLinkHtml;\n",
              "          element.appendChild(docLink);\n",
              "        }\n",
              "      </script>\n",
              "    </div>\n",
              "  </div>\n",
              "  "
            ]
          },
          "metadata": {},
          "execution_count": 44
        }
      ]
    },
    {
      "cell_type": "code",
      "metadata": {
        "colab": {
          "base_uri": "https://localhost:8080/"
        },
        "id": "xFPagCNl9Wat",
        "outputId": "7a4fa95b-522e-4bdd-f568-6e0659a3c4d0"
      },
      "source": [
        "df.describe"
      ],
      "execution_count": null,
      "outputs": [
        {
          "output_type": "execute_result",
          "data": {
            "text/plain": [
              "<bound method NDFrame.describe of             0         1        2        3  4\n",
              "0     3.62160   8.66610  -2.8073 -0.44699  0\n",
              "1     4.54590   8.16740  -2.4586 -1.46210  0\n",
              "2     3.86600  -2.63830   1.9242  0.10645  0\n",
              "3     3.45660   9.52280  -4.0112 -3.59440  0\n",
              "4     0.32924  -4.45520   4.5718 -0.98880  0\n",
              "...       ...       ...      ...      ... ..\n",
              "1367  0.40614   1.34920  -1.4501 -0.55949  1\n",
              "1368 -1.38870  -4.87730   6.4774  0.34179  1\n",
              "1369 -3.75030 -13.45860  17.5932 -2.77710  1\n",
              "1370 -3.56370  -8.38270  12.3930 -1.28230  1\n",
              "1371 -2.54190  -0.65804   2.6842  1.19520  1\n",
              "\n",
              "[1372 rows x 5 columns]>"
            ]
          },
          "metadata": {},
          "execution_count": 6
        }
      ]
    },
    {
      "cell_type": "code",
      "source": [
        "df.info()"
      ],
      "metadata": {
        "colab": {
          "base_uri": "https://localhost:8080/"
        },
        "id": "CfT7V7HcD8AY",
        "outputId": "2371b6f9-7095-4f54-bada-2ba8e3856431"
      },
      "execution_count": null,
      "outputs": [
        {
          "output_type": "stream",
          "name": "stdout",
          "text": [
            "<class 'pandas.core.frame.DataFrame'>\n",
            "RangeIndex: 1372 entries, 0 to 1371\n",
            "Data columns (total 5 columns):\n",
            " #   Column  Non-Null Count  Dtype  \n",
            "---  ------  --------------  -----  \n",
            " 0   0       1372 non-null   float64\n",
            " 1   1       1372 non-null   float64\n",
            " 2   2       1372 non-null   float64\n",
            " 3   3       1372 non-null   float64\n",
            " 4   4       1372 non-null   int64  \n",
            "dtypes: float64(4), int64(1)\n",
            "memory usage: 53.7 KB\n"
          ]
        }
      ]
    },
    {
      "cell_type": "code",
      "source": [
        "df1 = df.select_dtypes([np.int64, np.float64])\n",
        "for i, col in enumerate(df.columns):\n",
        "    plt.figure(i)\n",
        "    sns.boxplot(y = col, data = df1)"
      ],
      "metadata": {
        "colab": {
          "base_uri": "https://localhost:8080/",
          "height": 1000
        },
        "id": "RdbBFFLZ5TG5",
        "outputId": "241e4e58-2190-4b19-ef1e-c01d86130c55"
      },
      "execution_count": null,
      "outputs": [
        {
          "output_type": "display_data",
          "data": {
            "text/plain": [
              "<Figure size 432x288 with 1 Axes>"
            ],
            "image/png": "[encoded data removed]"
          },
          "metadata": {
            "needs_background": "light"
          }
        },
        {
          "output_type": "display_data",
          "data": {
            "text/plain": [
              "<Figure size 432x288 with 1 Axes>"
            ],
            "image/png": "[encoded data removed]"
          },
          "metadata": {
            "needs_background": "light"
          }
        },
        {
          "output_type": "display_data",
          "data": {
            "text/plain": [
              "<Figure size 432x288 with 1 Axes>"
            ],
            "image/png": "[encoded data removed]"
          },
          "metadata": {
            "needs_background": "light"
          }
        },
        {
          "output_type": "display_data",
          "data": {
            "text/plain": [
              "<Figure size 432x288 with 1 Axes>"
            ],
            "image/png": "[encoded data removed]"
          },
          "metadata": {
            "needs_background": "light"
          }
        },
        {
          "output_type": "display_data",
          "data": {
            "text/plain": [
              "<Figure size 432x288 with 1 Axes>"
            ],
            "image/png": "[encoded data removed]"
          },
          "metadata": {
            "needs_background": "light"
          }
        }
      ]
    },
    {
      "cell_type": "code",
      "metadata": {
        "id": "LW8uUP_X9xRf"
      },
      "source": [
        "X, y = df.values[:, :-1], df.values[:, -1]\n",
        "X_train, X_test, y_train, y_test = train_test_split(X, y, test_size=0.20)\n",
        "n_features = X.shape[1]"
      ],
      "execution_count": null,
      "outputs": []
    },
    {
      "cell_type": "markdown",
      "metadata": {
        "id": "hiOmIAQetaG_"
      },
      "source": [
        "# Adding layers in NN\n"
      ]
    },
    {
      "cell_type": "markdown",
      "source": [
        "## 10 epochs"
      ],
      "metadata": {
        "id": "qcJg-dhRqMQH"
      }
    },
    {
      "cell_type": "code",
      "metadata": {
        "colab": {
          "base_uri": "https://localhost:8080/"
        },
        "id": "P_U1FfdH_9p2",
        "outputId": "9653fede-e03c-4c5d-af62-c7e0ccb0d80a"
      },
      "source": [
        "model = Sequential()\n",
        "model.add(Dense(10, activation='relu', kernel_initializer='normal', input_shape=(n_features,)))\n",
        "model.add(Dense(1, activation='sigmoid'))\n",
        "model.compile(optimizer='adam', loss='binary_crossentropy', metrics=['accuracy'])\n",
        "history = model.fit(X_train, y_train, epochs=10, batch_size=32, verbose=1, validation_data=(X_test,y_test))\n",
        "yhat = model.predict(X_test) > 0.5\n",
        "score = accuracy_score(y_test, yhat)\n",
        "print('Accuracy: %.3f' % score)"
      ],
      "execution_count": null,
      "outputs": [
        {
          "output_type": "stream",
          "name": "stdout",
          "text": [
            "Epoch 1/10\n",
            "35/35 [==============================] - 2s 14ms/step - loss: 0.5149 - accuracy: 0.8304 - val_loss: 0.4183 - val_accuracy: 0.9018\n",
            "Epoch 2/10\n",
            "35/35 [==============================] - 0s 8ms/step - loss: 0.3892 - accuracy: 0.9143 - val_loss: 0.3172 - val_accuracy: 0.9600\n",
            "Epoch 3/10\n",
            "35/35 [==============================] - 0s 10ms/step - loss: 0.3068 - accuracy: 0.9471 - val_loss: 0.2466 - val_accuracy: 0.9855\n",
            "Epoch 4/10\n",
            "35/35 [==============================] - 0s 7ms/step - loss: 0.2468 - accuracy: 0.9599 - val_loss: 0.1944 - val_accuracy: 0.9891\n",
            "Epoch 5/10\n",
            "35/35 [==============================] - 0s 8ms/step - loss: 0.2006 - accuracy: 0.9717 - val_loss: 0.1574 - val_accuracy: 0.9855\n",
            "Epoch 6/10\n",
            "35/35 [==============================] - 0s 11ms/step - loss: 0.1674 - accuracy: 0.9781 - val_loss: 0.1309 - val_accuracy: 0.9891\n",
            "Epoch 7/10\n",
            "35/35 [==============================] - 0s 7ms/step - loss: 0.1421 - accuracy: 0.9872 - val_loss: 0.1111 - val_accuracy: 0.9891\n",
            "Epoch 8/10\n",
            "35/35 [==============================] - 0s 10ms/step - loss: 0.1229 - accuracy: 0.9927 - val_loss: 0.0958 - val_accuracy: 0.9891\n",
            "Epoch 9/10\n",
            "35/35 [==============================] - 0s 9ms/step - loss: 0.1075 - accuracy: 0.9927 - val_loss: 0.0838 - val_accuracy: 0.9891\n",
            "Epoch 10/10\n",
            "35/35 [==============================] - 0s 9ms/step - loss: 0.0954 - accuracy: 0.9927 - val_loss: 0.0742 - val_accuracy: 0.9927\n",
            "9/9 [==============================] - 0s 4ms/step\n",
            "Accuracy: 0.993\n"
          ]
        }
      ]
    },
    {
      "cell_type": "markdown",
      "source": [
        "### Reports and accuracy"
      ],
      "metadata": {
        "id": "Wh9qyghiqchx"
      }
    },
    {
      "cell_type": "code",
      "source": [
        "classification_report(y_test, yhat, labels=[0,1])"
      ],
      "metadata": {
        "colab": {
          "base_uri": "https://localhost:8080/",
          "height": 53
        },
        "id": "XIp2prQ__cK4",
        "outputId": "862d07f8-747a-48a0-c4eb-a972fcfa11ce"
      },
      "execution_count": null,
      "outputs": [
        {
          "output_type": "execute_result",
          "data": {
            "text/plain": [
              "'              precision    recall  f1-score   support\\n\\n           0       0.99      0.99      0.99       163\\n           1       0.99      0.99      0.99       112\\n\\n    accuracy                           0.99       275\\n   macro avg       0.99      0.99      0.99       275\\nweighted avg       0.99      0.99      0.99       275\\n'"
            ],
            "application/vnd.google.colaboratory.intrinsic+json": {
              "type": "string"
            }
          },
          "metadata": {},
          "execution_count": 26
        }
      ]
    },
    {
      "cell_type": "code",
      "metadata": {
        "colab": {
          "base_uri": "https://localhost:8080/"
        },
        "id": "iHVTxgQLqj0n",
        "outputId": "eba6f9ba-0c75-4a2f-de49-33122b9a2216"
      },
      "source": [
        "_, train_acc = model.evaluate(X_train, y_train, verbose=0)\n",
        "_, test_acc = model.evaluate(X_test, y_test, verbose=0)\n",
        "print('Train Accuracy: %.3f, Test Accuracy: %.3f' % (train_acc, test_acc))"
      ],
      "execution_count": null,
      "outputs": [
        {
          "output_type": "stream",
          "name": "stdout",
          "text": [
            "Train Accuracy: 0.995, Test Accuracy: 0.993\n"
          ]
        }
      ]
    },
    {
      "cell_type": "markdown",
      "source": [
        "## Loss curve and accuracy curve wrt to epochs"
      ],
      "metadata": {
        "id": "CKtAWp5bq9ex"
      }
    },
    {
      "cell_type": "code",
      "metadata": {
        "colab": {
          "base_uri": "https://localhost:8080/",
          "height": 295
        },
        "id": "8F18q4T0Hh14",
        "outputId": "bce8e4d1-cb35-481f-9b06-38af929472ce"
      },
      "source": [
        "plt.title('Loss Curve')\n",
        "plt.xlabel('Epoch')\n",
        "plt.ylabel('Loss')\n",
        "plt.plot(history.history['loss'], label='train')\n",
        "plt.plot(history.history['val_loss'], label='val')\n",
        "plt.legend()\n",
        "plt.show()"
      ],
      "execution_count": null,
      "outputs": [
        {
          "output_type": "display_data",
          "data": {
            "text/plain": [
              "<Figure size 432x288 with 1 Axes>"
            ],
            "image/png": "[encoded data removed]"
          },
          "metadata": {
            "needs_background": "light"
          }
        }
      ]
    },
    {
      "cell_type": "code",
      "source": [
        "plt.title('Accuracy')\n",
        "plt.xlabel('Epoch')\n",
        "plt.ylabel('Accuracy')\n",
        "plt.plot(history.history['accuracy'], label='train')\n",
        "plt.plot(history.history['val_accuracy'], label='test')\n",
        "plt.legend()\n",
        "plt.show()"
      ],
      "metadata": {
        "colab": {
          "base_uri": "https://localhost:8080/",
          "height": 295
        },
        "id": "UQhN9fXFq7jD",
        "outputId": "8f7fc88b-34b4-4f73-94b0-cfb42feab000"
      },
      "execution_count": null,
      "outputs": [
        {
          "output_type": "display_data",
          "data": {
            "text/plain": [
              "<Figure size 432x288 with 1 Axes>"
            ],
            "image/png": "[encoded data removed]"
          },
          "metadata": {
            "needs_background": "light"
          }
        }
      ]
    },
    {
      "cell_type": "code",
      "source": [
        "yhat_probs = model.predict(X_test, verbose=2)>0.5\n",
        "yhat_classes = model.predict(X_test, verbose=0)>0.5\n",
        "yhat_probs = yhat_probs[:, 0]\n",
        "yhat_classes = yhat_classes[:, 0]"
      ],
      "metadata": {
        "colab": {
          "base_uri": "https://localhost:8080/"
        },
        "id": "t0zoOan3KfMT",
        "outputId": "0e978fe0-f735-4d65-c82e-0dcbd14898c8"
      },
      "execution_count": null,
      "outputs": [
        {
          "output_type": "stream",
          "name": "stdout",
          "text": [
            "9/9 - 0s - 76ms/epoch - 8ms/step\n"
          ]
        }
      ]
    },
    {
      "cell_type": "markdown",
      "source": [
        "### Scores"
      ],
      "metadata": {
        "id": "CUyShuH7sCoE"
      }
    },
    {
      "cell_type": "code",
      "source": [
        "accuracy = accuracy_score(y_test, yhat_classes)\n",
        "print('Accuracy: %f' % accuracy)\n",
        "precision = precision_score(y_test, yhat_classes)\n",
        "print('Precision: %f' % precision)\n",
        "recall = recall_score(y_test, yhat_classes)\n",
        "print('Recall: %f' % recall)\n",
        "f1 = f1_score(y_test, yhat_classes)\n",
        "print('F1 score: %f' % f1)\n",
        "auc = roc_auc_score(y_test, yhat_probs)\n",
        "print('ROC AUC: %f' % auc)\n",
        "matrix = confusion_matrix(y_test, yhat_classes)\n",
        "print(matrix)"
      ],
      "metadata": {
        "colab": {
          "base_uri": "https://localhost:8080/"
        },
        "id": "6ClH5aSQsByg",
        "outputId": "47c15ae8-c36c-4b73-93e1-aded44b7799e"
      },
      "execution_count": null,
      "outputs": [
        {
          "output_type": "stream",
          "name": "stdout",
          "text": [
            "Accuracy: 0.992727\n",
            "Precision: 0.991071\n",
            "Recall: 0.991071\n",
            "F1 score: 0.991071\n",
            "ROC AUC: 0.992468\n",
            "[[162   1]\n",
            " [  1 111]]\n"
          ]
        }
      ]
    },
    {
      "cell_type": "markdown",
      "metadata": {
        "id": "nYro_6NWt8Wk"
      },
      "source": [
        "### Making it better by running more epochs"
      ]
    },
    {
      "cell_type": "markdown",
      "source": [
        "## 20 epochs"
      ],
      "metadata": {
        "id": "0t4resOZshVR"
      }
    },
    {
      "cell_type": "code",
      "source": [
        "model = Sequential()\n",
        "model.add(Dense(10, activation='relu', kernel_initializer='normal', input_shape=(n_features,)))\n",
        "model.add(Dense(1, activation='sigmoid'))\n",
        "model.compile(optimizer='adam', loss='binary_crossentropy', metrics=['accuracy'])\n",
        "history = model.fit(X_train, y_train, epochs=20, batch_size=32, verbose=1, validation_data=(X_test,y_test))\n",
        "yhat = model.predict(X_test) > 0.5\n",
        "score = accuracy_score(y_test, yhat)\n",
        "print('Accuracy: %.3f' % score)"
      ],
      "metadata": {
        "colab": {
          "base_uri": "https://localhost:8080/"
        },
        "id": "I3XF2WR48QCA",
        "outputId": "6bb1b7c2-95ce-4c8b-d964-5cbf8a83a374"
      },
      "execution_count": null,
      "outputs": [
        {
          "output_type": "stream",
          "name": "stdout",
          "text": [
            "Epoch 1/20\n",
            "35/35 [==============================] - 3s 23ms/step - loss: 0.6195 - accuracy: 0.7502 - val_loss: 0.5435 - val_accuracy: 0.7891\n",
            "Epoch 2/20\n",
            "35/35 [==============================] - 0s 14ms/step - loss: 0.5108 - accuracy: 0.8323 - val_loss: 0.4464 - val_accuracy: 0.9091\n",
            "Epoch 3/20\n",
            "35/35 [==============================] - 0s 10ms/step - loss: 0.4217 - accuracy: 0.9289 - val_loss: 0.3578 - val_accuracy: 0.9600\n",
            "Epoch 4/20\n",
            "35/35 [==============================] - 0s 9ms/step - loss: 0.3366 - accuracy: 0.9608 - val_loss: 0.2774 - val_accuracy: 0.9745\n",
            "Epoch 5/20\n",
            "35/35 [==============================] - 0s 8ms/step - loss: 0.2641 - accuracy: 0.9717 - val_loss: 0.2153 - val_accuracy: 0.9818\n",
            "Epoch 6/20\n",
            "35/35 [==============================] - 0s 12ms/step - loss: 0.2090 - accuracy: 0.9799 - val_loss: 0.1695 - val_accuracy: 0.9818\n",
            "Epoch 7/20\n",
            "35/35 [==============================] - 0s 10ms/step - loss: 0.1690 - accuracy: 0.9827 - val_loss: 0.1372 - val_accuracy: 0.9855\n",
            "Epoch 8/20\n",
            "35/35 [==============================] - 0s 12ms/step - loss: 0.1394 - accuracy: 0.9872 - val_loss: 0.1131 - val_accuracy: 0.9855\n",
            "Epoch 9/20\n",
            "35/35 [==============================] - 0s 12ms/step - loss: 0.1173 - accuracy: 0.9891 - val_loss: 0.0954 - val_accuracy: 0.9891\n",
            "Epoch 10/20\n",
            "35/35 [==============================] - 0s 12ms/step - loss: 0.1004 - accuracy: 0.9900 - val_loss: 0.0819 - val_accuracy: 0.9891\n",
            "Epoch 11/20\n",
            "35/35 [==============================] - 0s 12ms/step - loss: 0.0877 - accuracy: 0.9918 - val_loss: 0.0711 - val_accuracy: 0.9964\n",
            "Epoch 12/20\n",
            "35/35 [==============================] - 0s 7ms/step - loss: 0.0762 - accuracy: 0.9954 - val_loss: 0.0624 - val_accuracy: 0.9964\n",
            "Epoch 13/20\n",
            "35/35 [==============================] - 0s 6ms/step - loss: 0.0673 - accuracy: 0.9964 - val_loss: 0.0554 - val_accuracy: 0.9964\n",
            "Epoch 14/20\n",
            "35/35 [==============================] - 0s 9ms/step - loss: 0.0601 - accuracy: 0.9964 - val_loss: 0.0496 - val_accuracy: 0.9964\n",
            "Epoch 15/20\n",
            "35/35 [==============================] - 0s 9ms/step - loss: 0.0540 - accuracy: 0.9964 - val_loss: 0.0447 - val_accuracy: 0.9964\n",
            "Epoch 16/20\n",
            "35/35 [==============================] - 0s 11ms/step - loss: 0.0489 - accuracy: 0.9973 - val_loss: 0.0405 - val_accuracy: 1.0000\n",
            "Epoch 17/20\n",
            "35/35 [==============================] - 0s 11ms/step - loss: 0.0445 - accuracy: 1.0000 - val_loss: 0.0371 - val_accuracy: 1.0000\n",
            "Epoch 18/20\n",
            "35/35 [==============================] - 0s 9ms/step - loss: 0.0407 - accuracy: 1.0000 - val_loss: 0.0342 - val_accuracy: 1.0000\n",
            "Epoch 19/20\n",
            "35/35 [==============================] - 0s 10ms/step - loss: 0.0375 - accuracy: 1.0000 - val_loss: 0.0315 - val_accuracy: 1.0000\n",
            "Epoch 20/20\n",
            "35/35 [==============================] - 0s 8ms/step - loss: 0.0346 - accuracy: 1.0000 - val_loss: 0.0291 - val_accuracy: 1.0000\n",
            "9/9 [==============================] - 0s 4ms/step\n",
            "Accuracy: 1.000\n"
          ]
        }
      ]
    },
    {
      "cell_type": "markdown",
      "source": [
        "### Reports and accuracy"
      ],
      "metadata": {
        "id": "vE9bkCtAtHKc"
      }
    },
    {
      "cell_type": "code",
      "source": [
        "classification_report(y_test, yhat, labels=[0,1])"
      ],
      "metadata": {
        "id": "blm-qZFq1fC1",
        "colab": {
          "base_uri": "https://localhost:8080/",
          "height": 53
        },
        "outputId": "5da2b1fa-3794-4e58-f9eb-84da351189bb"
      },
      "execution_count": null,
      "outputs": [
        {
          "output_type": "execute_result",
          "data": {
            "text/plain": [
              "'              precision    recall  f1-score   support\\n\\n           0       1.00      1.00      1.00       163\\n           1       1.00      1.00      1.00       112\\n\\n    accuracy                           1.00       275\\n   macro avg       1.00      1.00      1.00       275\\nweighted avg       1.00      1.00      1.00       275\\n'"
            ],
            "application/vnd.google.colaboratory.intrinsic+json": {
              "type": "string"
            }
          },
          "metadata": {},
          "execution_count": 33
        }
      ]
    },
    {
      "cell_type": "code",
      "source": [
        "_, train_acc = model.evaluate(X_train, y_train, verbose=0)\n",
        "_, test_acc = model.evaluate(X_test, y_test, verbose=0)\n",
        "print('Train Accuracy: %.3f, Test Accuracy: %.3f' % (train_acc, test_acc))"
      ],
      "metadata": {
        "colab": {
          "base_uri": "https://localhost:8080/"
        },
        "id": "r0oIeRdQs4JF",
        "outputId": "a34d24e2-9cb9-4ed7-eb08-9a97b851653d"
      },
      "execution_count": null,
      "outputs": [
        {
          "output_type": "stream",
          "name": "stdout",
          "text": [
            "Train Accuracy: 1.000, Test Accuracy: 1.000\n"
          ]
        }
      ]
    },
    {
      "cell_type": "markdown",
      "source": [
        "## Loss curve and accuracy curve wrt to epochs"
      ],
      "metadata": {
        "id": "86XBIfQztOH2"
      }
    },
    {
      "cell_type": "code",
      "source": [
        "plt.title('Loss Curve')\n",
        "plt.xlabel('Epoch')\n",
        "plt.ylabel('Loss')\n",
        "plt.plot(history.history['loss'], label='train')\n",
        "plt.plot(history.history['val_loss'], label='val')\n",
        "plt.legend()\n",
        "plt.show()"
      ],
      "metadata": {
        "colab": {
          "base_uri": "https://localhost:8080/",
          "height": 295
        },
        "id": "tVznIRQ5s7ar",
        "outputId": "f4888bfb-e09d-4eee-9935-c3f8ae694887"
      },
      "execution_count": null,
      "outputs": [
        {
          "output_type": "display_data",
          "data": {
            "text/plain": [
              "<Figure size 432x288 with 1 Axes>"
            ],
            "image/png": "[encoded data removed]"
          },
          "metadata": {
            "needs_background": "light"
          }
        }
      ]
    },
    {
      "cell_type": "code",
      "source": [
        "plt.title('Accuracy')\n",
        "plt.xlabel('Epoch')\n",
        "plt.ylabel('Accuracy')\n",
        "plt.plot(history.history['accuracy'], label='train')\n",
        "plt.plot(history.history['val_accuracy'], label='test')\n",
        "plt.legend()\n",
        "plt.show()"
      ],
      "metadata": {
        "colab": {
          "base_uri": "https://localhost:8080/",
          "height": 295
        },
        "id": "diYirVgBs9fQ",
        "outputId": "4f2201cc-f12b-4bb0-e557-7bf7fdfa113d"
      },
      "execution_count": null,
      "outputs": [
        {
          "output_type": "display_data",
          "data": {
            "text/plain": [
              "<Figure size 432x288 with 1 Axes>"
            ],
            "image/png": "[encoded data removed]"
          },
          "metadata": {
            "needs_background": "light"
          }
        }
      ]
    },
    {
      "cell_type": "code",
      "source": [
        "yhat_probs = model.predict(X_test, verbose=2)>0.5\n",
        "yhat_classes = model.predict(X_test, verbose=0)>0.5\n",
        "yhat_probs = yhat_probs[:, 0]\n",
        "yhat_classes = yhat_classes[:, 0]"
      ],
      "metadata": {
        "colab": {
          "base_uri": "https://localhost:8080/"
        },
        "id": "kOu8LjOos_nF",
        "outputId": "6559e6eb-14a3-4dbb-d328-0c5fc6099c13"
      },
      "execution_count": null,
      "outputs": [
        {
          "output_type": "stream",
          "name": "stdout",
          "text": [
            "9/9 - 0s - 93ms/epoch - 10ms/step\n"
          ]
        }
      ]
    },
    {
      "cell_type": "markdown",
      "source": [
        "### Scores"
      ],
      "metadata": {
        "id": "0YqMjEhvtT_O"
      }
    },
    {
      "cell_type": "code",
      "source": [
        "accuracy = accuracy_score(y_test, yhat_classes)\n",
        "print('Accuracy: %f' % accuracy)\n",
        "precision = precision_score(y_test, yhat_classes)\n",
        "print('Precision: %f' % precision)\n",
        "recall = recall_score(y_test, yhat_classes)\n",
        "print('Recall: %f' % recall)\n",
        "f1 = f1_score(y_test, yhat_classes)\n",
        "print('F1 score: %f' % f1)\n",
        "auc = roc_auc_score(y_test, yhat_probs)\n",
        "print('ROC AUC: %f' % auc)\n",
        "matrix = confusion_matrix(y_test, yhat_classes)\n",
        "print(matrix)"
      ],
      "metadata": {
        "colab": {
          "base_uri": "https://localhost:8080/"
        },
        "id": "7slnr5dhtBq6",
        "outputId": "2c24b6ca-707f-42dc-df35-c5c5c0149299"
      },
      "execution_count": null,
      "outputs": [
        {
          "output_type": "stream",
          "name": "stdout",
          "text": [
            "Accuracy: 1.000000\n",
            "Precision: 1.000000\n",
            "Recall: 1.000000\n",
            "F1 score: 1.000000\n",
            "ROC AUC: 1.000000\n",
            "[[163   0]\n",
            " [  0 112]]\n"
          ]
        }
      ]
    }
  ]
}